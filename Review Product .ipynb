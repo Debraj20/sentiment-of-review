{
 "cells": [
  {
   "cell_type": "code",
   "execution_count": 1,
   "id": "2fbd4112-81a2-481e-aaee-74cec34aad7f",
   "metadata": {},
   "outputs": [
    {
     "name": "stdout",
     "output_type": "stream",
     "text": [
      "Collecting textblob\n",
      "  Downloading textblob-0.18.0.post0-py3-none-any.whl.metadata (4.5 kB)\n",
      "Requirement already satisfied: nltk>=3.8 in c:\\users\\adhik\\anaconda3\\lib\\site-packages (from textblob) (3.8.1)\n",
      "Requirement already satisfied: click in c:\\users\\adhik\\anaconda3\\lib\\site-packages (from nltk>=3.8->textblob) (8.1.7)\n",
      "Requirement already satisfied: joblib in c:\\users\\adhik\\anaconda3\\lib\\site-packages (from nltk>=3.8->textblob) (1.4.2)\n",
      "Requirement already satisfied: regex>=2021.8.3 in c:\\users\\adhik\\anaconda3\\lib\\site-packages (from nltk>=3.8->textblob) (2023.10.3)\n",
      "Requirement already satisfied: tqdm in c:\\users\\adhik\\anaconda3\\lib\\site-packages (from nltk>=3.8->textblob) (4.66.4)\n",
      "Requirement already satisfied: colorama in c:\\users\\adhik\\anaconda3\\lib\\site-packages (from click->nltk>=3.8->textblob) (0.4.6)\n",
      "Downloading textblob-0.18.0.post0-py3-none-any.whl (626 kB)\n",
      "   ---------------------------------------- 0.0/626.3 kB ? eta -:--:--\n",
      "   - ------------------------------------- 30.7/626.3 kB 660.6 kB/s eta 0:00:01\n",
      "   -- ------------------------------------ 41.0/626.3 kB 393.8 kB/s eta 0:00:02\n",
      "   ----- --------------------------------- 92.2/626.3 kB 880.9 kB/s eta 0:00:01\n",
      "   -------- ----------------------------- 143.4/626.3 kB 853.3 kB/s eta 0:00:01\n",
      "   --------------- ------------------------ 235.5/626.3 kB 1.0 MB/s eta 0:00:01\n",
      "   ----------------- ---------------------- 276.5/626.3 kB 1.1 MB/s eta 0:00:01\n",
      "   ----------------------------- ---------- 460.8/626.3 kB 1.4 MB/s eta 0:00:01\n",
      "   --------------------------------- ------ 522.2/626.3 kB 1.4 MB/s eta 0:00:01\n",
      "   ---------------------------------------  624.6/626.3 kB 1.6 MB/s eta 0:00:01\n",
      "   ---------------------------------------- 626.3/626.3 kB 1.5 MB/s eta 0:00:00\n",
      "Installing collected packages: textblob\n",
      "Successfully installed textblob-0.18.0.post0\n",
      "Note: you may need to restart the kernel to use updated packages.\n"
     ]
    }
   ],
   "source": [
    "pip install textblob"
   ]
  },
  {
   "cell_type": "code",
   "execution_count": 1,
   "id": "5522d6e8-977b-4760-8f41-3fa26f5cf5f8",
   "metadata": {},
   "outputs": [],
   "source": [
    "from textblob import TextBlob"
   ]
  },
  {
   "cell_type": "code",
   "execution_count": 3,
   "id": "69cf570d-d0ed-42a7-bf35-a39ba6ce8338",
   "metadata": {},
   "outputs": [],
   "source": [
    "reviews = [\n",
    "    \"The product quality is amazing! I love it.\",\n",
    "    \"Terrible experience, the item broke within a week.\",\n",
    "    \"It's okay, neither good nor bad.\"\n",
    "]"
   ]
  },
  {
   "cell_type": "code",
   "execution_count": 7,
   "id": "3ce8c44e-c2ec-4e26-82df-fa92fc669f16",
   "metadata": {},
   "outputs": [],
   "source": [
    "for review in reviews:\n",
    "    analysis = TextBlob(review)\n",
    "    sentiment = analysis.sentiment.polarity "
   ]
  },
  {
   "cell_type": "code",
   "execution_count": 20,
   "id": "a36cb506-662f-474e-bbac-cacb28a304bc",
   "metadata": {},
   "outputs": [],
   "source": [
    "if sentiment > 0:\n",
    "    label = \"Positive\"\n",
    "elif sentiment < 0:\n",
    "    label = \"Negative\"\n",
    "else:\n",
    "    label = \"Neutral\""
   ]
  },
  {
   "cell_type": "code",
   "execution_count": 22,
   "id": "18b756fb-c6dc-489f-8ea0-80fda6f1135e",
   "metadata": {},
   "outputs": [
    {
     "name": "stdout",
     "output_type": "stream",
     "text": [
      "Review: 'It's okay, neither good nor bad.' - Sentiment: Positive\n"
     ]
    }
   ],
   "source": [
    "print(f\"Review: '{review}' - Sentiment: {label}\")"
   ]
  },
  {
   "cell_type": "code",
   "execution_count": null,
   "id": "2ce7d827-5024-42ff-a93c-4b490226c60a",
   "metadata": {},
   "outputs": [],
   "source": []
  }
 ],
 "metadata": {
  "kernelspec": {
   "display_name": "Python 3 (ipykernel)",
   "language": "python",
   "name": "python3"
  },
  "language_info": {
   "codemirror_mode": {
    "name": "ipython",
    "version": 3
   },
   "file_extension": ".py",
   "mimetype": "text/x-python",
   "name": "python",
   "nbconvert_exporter": "python",
   "pygments_lexer": "ipython3",
   "version": "3.12.4"
  }
 },
 "nbformat": 4,
 "nbformat_minor": 5
}
